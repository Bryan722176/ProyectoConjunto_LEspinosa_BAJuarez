{
 "cells": [
  {
   "cell_type": "markdown",
   "metadata": {},
   "source": [
    "<img style=\"float: left; margin: 30px 15px 15px 15px;\" src=\"https://pngimage.net/wp-content/uploads/2018/06/logo-iteso-png-5.png\" width=\"300\" height=\"500\" /> \n",
    "    \n",
    "    \n",
    "### <font color='navy'> Simulación de procesos financieros. \n",
    "\n",
    "**Nombres:** Lyha Espinosa García, Bryan Azahel Juárez Pineda.\n",
    "\n",
    "**Fecha:** 01 de febrero del 2021.\n",
    "\n",
    "**Expediente** : 721861, 722176.\n",
    "**Profesor:** Oscar David Jaramillo Zuluaga.\n",
    "\n",
    "# Tarea 1: Clase 2"
   ]
  },
  {
   "cell_type": "markdown",
   "metadata": {},
   "source": [
    "[Liga al repositorio](https://github.com/lyhaesp/ProyectoConjunto_LEspinosa_BAJuarez.git)\n"
   ]
  },
  {
   "cell_type": "markdown",
   "metadata": {},
   "source": [
    "## Enunciado de tarea (Transcibirlo)\n",
    "> Descripción de la tarea"
   ]
  },
  {
   "cell_type": "markdown",
   "metadata": {},
   "source": [
    "### Ejercicio 1: Expectativas del curso y la transcipción de la Figura 1 y Figura 2"
   ]
  },
  {
   "cell_type": "markdown",
   "metadata": {},
   "source": [
    "#### Expectativas Lyha.\n",
    "> En este curso espero mejorar mis habilidades de programación, aprovechando al máximo los conocimientos compartidos por parte del profesor."
   ]
  },
  {
   "cell_type": "markdown",
   "metadata": {},
   "source": [
    "#### Expectativas Bryan.\n",
    "> A lo largo de este curso espero poder aprender técnicas de simulación que me permitan entender y modelar procesos financieros de una manera óptima, con la intención de obtener una aplicación competentede dichos conceptos. Además espero poder aprender formas de optimizar códigos y hacer algoritmos más eficientes. "
   ]
  },
  {
   "cell_type": "markdown",
   "metadata": {},
   "source": [
    "#### Figura 1"
   ]
  },
  {
   "cell_type": "markdown",
   "metadata": {},
   "source": [
    "| $i$  | $x$  | $f(x)$  |\n",
    "| ---  |----  | ------  |\n",
    "| $0$  | $-1$ | $0.3678$|\n",
    "| $\\color{red}1$  |$\\color{red}{-0.5}$| $\\color{red}{0.7788}$|\n",
    "| $\\color{blue}2$  | $\\color{blue}0$  |   $$\\color{blue}1$$   |\n",
    "| $\\color{red}3$  | $\\color{red}{0.5}$| $\\color{red}{0.7788}$|\n",
    "| $4$  |  $1$ | $0.3678$|  \n",
    "  \n",
    "  \n",
    "$$\n",
    "\\text{Cuadro 1: Tabla de valores de $f(x)$}\n",
    "$$"
   ]
  },
  {
   "cell_type": "markdown",
   "metadata": {},
   "source": [
    "$$  \n",
    "\\begin{aligned}\n",
    "\\int_{-1}^1 e^{-x^2}dx &\\approx \\frac{0,5}{3}[f(-1)+f(1)+4(\\color{red}{f(-0,5)-f(0,5)})+2\\color{blue}{f(0)}]  \\\\\n",
    "&\\approx \\frac{0,5}{3}[0,3678+0,3678+4(\\color{red}{0,7788+0,7788})+2 \\cdot \\color{blue}1] \\approx 1,4943\n",
    "\\end{aligned}\n",
    "$$"
   ]
  },
  {
   "cell_type": "markdown",
   "metadata": {},
   "source": [
    "$$\n",
    "\\begin{aligned}\n",
    "&\\text{A modo de verificación, se calculará por software, el valor del área para $n = 100$, un valor mucho} \\\\\n",
    "&\\text{más elevado al que se utilizó anteriormente. Si lo calculado previamente es correcto, se esperaría que} \\\\\n",
    "&\\text{sea próximo al valor presentado a continuación para ser una buena aproximación.}  \n",
    "\\end{aligned}\n",
    "$$\n"
   ]
  },
  {
   "cell_type": "markdown",
   "metadata": {},
   "source": [
    "$$\n",
    "\\int_{-1}^1 e^{-x^2}dx \\approx 1,4936\n",
    "$$"
   ]
  },
  {
   "cell_type": "markdown",
   "metadata": {},
   "source": [
    "#### Figura 2."
   ]
  },
  {
   "cell_type": "markdown",
   "metadata": {},
   "source": [
    "| $\\text{i}$      | $1$   | $2$   | $3$   | $4$   | $5$ | $6$ | $7$  |\n",
    "|:---------------:|:-----:|:-----:|:-----:|:-----:|:---:|:---:|:----:|\n",
    "| $E_{i}(V)$      | $12$  | $10$  | $24$  | $12$  | $-$ | $-$ | $-$  |\n",
    "| $r_{i}(\\Omega)$ | $0.1$ | $0.5$ | $0.2$ | $0.5$ | $-$ | $-$ | $-$  |\n",
    "| $R_{i}(\\Omega)$ | $25$  | $40$  | $16$  | $20$  | $9$ | $4$ | $20$ |"
   ]
  },
  {
   "cell_type": "markdown",
   "metadata": {},
   "source": [
    "<p style='line-height:120%; text-align:Justify; font-family:Times New Roman; font-size:18pt'>\n",
    "<span style='color:DodgerBlue; padding-left:25px'> Kemna y Vorst (1990) <span>\n",
    "<span style='color:Black'> muestran que las opciones asiáticas con media geométrica continua se <span> \n",
    "<span style='font-family:Times New Roman; color:Black; font-size:18pt'> pueden valuar con el mismo enfoque de las opciones <i>plain vanilla</i>; solo se deben cambiar los parámetros de volatilidad $\\sigma$ por $\\sigma_{a}$, y el costo de acarreo $b$ por $b_{A}$. <span>\n",
    "<br>\n",
    "<span style='padding-left:25px'>De acuerdo con Kemna y Vorst, las fórmulas para valuar una opción de compra y una opción de venta son: <span>\n",
    "<br>\n",
    "<p style='font-family:Times New Roman; font-size:18pt; padding-left:35px'>\n",
    "$ c \\approx S_{t}e^{(b_{A}-r)(T-t)}\\Phi(d_{1}) - Ke^{-r(T-t)}\\Phi(d_{2}),$\n",
    "</p>\n",
    "<div style='font-family:Times New Roman; font-size:18pt; text-align:Right'>\n",
    "$(3)$\n",
    "<div>    \n",
    "<p style='font-family:Times New Roman; font-size:18pt; padding-left:35px'>\n",
    "$ p \\approx Ke^{-r(T-t)}\\Phi(-d_{2}) - S_{t}e^{(b_{A}-r)(T-t)}\\Phi(-d_{1}). $\n",
    "<p>  \n",
    "<span style='color:Black; font-family:Times New Roman; font-size:18pt'>\n",
    "con $d_{1}$ y $d_{2}$ dados por: <span>\n",
    "<p style='font-family:Times New Roman; font-size:18pt; padding-left:35px'>\n",
    "$d_{1} = \\frac{\\ln (S_{t}/K) + (b_{A}+1/2\\sigma^{2}_a)(T-t)}{\\sigma \\sqrt{T-t}} ,$\n",
    "<p>\n",
    "<div style='font-family:Times New Roman; font-size:18pt; text-align:Right'>\n",
    "$(4)$\n",
    "<div>\n",
    "<p style='font-family:Times New Roman; font-size:18pt; padding-left:35px'>\n",
    "$d_{2} = d_{1} - \\sigma_{a} \\sqrt{T-t} .$\n",
    "<p>\n",
    "<p style='line-height:120%; text-align:Justify; font-family:Times New Roman; font-size:18pt'>\n",
    "La función $\\Phi(d)$ es la función de distribución acumulada de $E\\sim\\mathcal{N}(0,1)$. La volatilidad ajustada es igual a:\n",
    "<p>\n",
    "<p style='font-family:Times New Roman; font-size:18pt; padding-left:35px'>\n",
    "$ \\sigma_{a} = \\frac{\\sigma}{\\sqrt{3}} ,$\n",
    "<p>\n",
    "<p style='line-height:120%; text-align:Justify; font-family:Times New Roman; font-size:18pt'>\n",
    "mientras que el costo de acarreo ajustado es:\n",
    "<p style='font-family:Times New Roman; font-size:18pt; padding-left:35px'>\n",
    "$ b_{A} = \\frac{1}{2}\\left(v-\\frac{\\sigma^{2}}{6}\\right) .$ \n",
    "<p>"
   ]
  },
  {
   "cell_type": "markdown",
   "metadata": {},
   "source": [
    "### Ejercicio 2: Programa que imprima la serie de fibonacci para sus primeros 100 términos en un array de python."
   ]
  },
  {
   "cell_type": "code",
   "execution_count": 1,
   "metadata": {},
   "outputs": [
    {
     "name": "stdout",
     "output_type": "stream",
     "text": [
      "[0.00000000e+00 1.00000000e+00 1.00000000e+00 2.00000000e+00\n",
      " 3.00000000e+00 5.00000000e+00 8.00000000e+00 1.30000000e+01\n",
      " 2.10000000e+01 3.40000000e+01 5.50000000e+01 8.90000000e+01\n",
      " 1.44000000e+02 2.33000000e+02 3.77000000e+02 6.10000000e+02\n",
      " 9.87000000e+02 1.59700000e+03 2.58400000e+03 4.18100000e+03\n",
      " 6.76500000e+03 1.09460000e+04 1.77110000e+04 2.86570000e+04\n",
      " 4.63680000e+04 7.50250000e+04 1.21393000e+05 1.96418000e+05\n",
      " 3.17811000e+05 5.14229000e+05 8.32040000e+05 1.34626900e+06\n",
      " 2.17830900e+06 3.52457800e+06 5.70288700e+06 9.22746500e+06\n",
      " 1.49303520e+07 2.41578170e+07 3.90881690e+07 6.32459860e+07\n",
      " 1.02334155e+08 1.65580141e+08 2.67914296e+08 4.33494437e+08\n",
      " 7.01408733e+08 1.13490317e+09 1.83631190e+09 2.97121507e+09\n",
      " 4.80752698e+09 7.77874205e+09 1.25862690e+10 2.03650111e+10\n",
      " 3.29512801e+10 5.33162912e+10 8.62675713e+10 1.39583862e+11\n",
      " 2.25851434e+11 3.65435296e+11 5.91286730e+11 9.56722026e+11\n",
      " 1.54800876e+12 2.50473078e+12 4.05273954e+12 6.55747032e+12\n",
      " 1.06102099e+13 1.71676802e+13 2.77778900e+13 4.49455702e+13\n",
      " 7.27234602e+13 1.17669030e+14 1.90392491e+14 3.08061521e+14\n",
      " 4.98454012e+14 8.06515533e+14 1.30496954e+15 2.11148508e+15\n",
      " 3.41645462e+15 5.52793970e+15 8.94439432e+15 1.44723340e+16\n",
      " 2.34167283e+16 3.78890624e+16 6.13057907e+16 9.91948531e+16\n",
      " 1.60500644e+17 2.59695497e+17 4.20196141e+17 6.79891638e+17\n",
      " 1.10008778e+18 1.77997942e+18 2.88006719e+18 4.66004661e+18\n",
      " 7.54011380e+18 1.22001604e+19 1.97402742e+19 3.19404346e+19\n",
      " 5.16807089e+19 8.36211435e+19 1.35301852e+20 2.18922996e+20]\n"
     ]
    }
   ],
   "source": [
    "import numpy as np\n",
    "f=np.zeros(100)\n",
    "f[0]=0\n",
    "f[1]=1\n",
    "for i in range (98):\n",
    "    f[i+2] = f[i] + f[i+1]\n",
    "print (f)"
   ]
  },
  {
   "cell_type": "markdown",
   "metadata": {},
   "source": [
    "### Ejercicio 3: Programa que muestre los números primos del 0-100. "
   ]
  },
  {
   "cell_type": "code",
   "execution_count": null,
   "metadata": {},
   "outputs": [],
   "source": []
  }
 ],
 "metadata": {
  "kernelspec": {
   "display_name": "Python 3",
   "language": "python",
   "name": "python3"
  },
  "language_info": {
   "codemirror_mode": {
    "name": "ipython",
    "version": 3
   },
   "file_extension": ".py",
   "mimetype": "text/x-python",
   "name": "python",
   "nbconvert_exporter": "python",
   "pygments_lexer": "ipython3",
   "version": "3.7.3"
  }
 },
 "nbformat": 4,
 "nbformat_minor": 2
}
